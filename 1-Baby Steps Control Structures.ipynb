{
 "cells": [
  {
   "cell_type": "code",
   "execution_count": 1,
   "id": "56954596-51a3-4634-88e9-22c99e94d10c",
   "metadata": {},
   "outputs": [
    {
     "name": "stdout",
     "output_type": "stream",
     "text": [
      "Welcome to Assignment-1\n"
     ]
    }
   ],
   "source": [
    "print('Welcome to Assignment-1')"
   ]
  },
  {
   "cell_type": "code",
   "execution_count": 29,
   "id": "fc808d00-e359-404f-bb68-45f2d3423b78",
   "metadata": {},
   "outputs": [
    {
     "name": "stdin",
     "output_type": "stream",
     "text": [
      "Enter two values : 10 20\n"
     ]
    },
    {
     "name": "stdout",
     "output_type": "stream",
     "text": [
      "Add = 30\n"
     ]
    }
   ],
   "source": [
    "Num1,Num2 = map(int, input(\"Enter two values :\").split())\n",
    "print(\"Add =\", Num1 + Num2 )"
   ]
  },
  {
   "cell_type": "code",
   "execution_count": 47,
   "id": "95136e7b-b1cf-4a08-83e8-4a6ed4a4fb4e",
   "metadata": {},
   "outputs": [
    {
     "name": "stdin",
     "output_type": "stream",
     "text": [
      "Enter BMI value : 34\n"
     ]
    },
    {
     "name": "stdout",
     "output_type": "stream",
     "text": [
      "Very Overweight\n"
     ]
    }
   ],
   "source": [
    "BMI_Value = int( input(\"Enter BMI value :\") )\n",
    "print(f'{ \"Under weight\" if BMI_Value < 18.7 else \"Noraml\" if BMI_Value < 34 else \"Very Overweight\" if BMI_Value <= 40 else \"Obese\"}')\n"
   ]
  },
  {
   "cell_type": "code",
   "execution_count": null,
   "id": "2afa3492-f65f-4183-af61-3652cccda58e",
   "metadata": {},
   "outputs": [],
   "source": []
  }
 ],
 "metadata": {
  "kernelspec": {
   "display_name": "Python 3 (ipykernel)",
   "language": "python",
   "name": "python3"
  },
  "language_info": {
   "codemirror_mode": {
    "name": "ipython",
    "version": 3
   },
   "file_extension": ".py",
   "mimetype": "text/x-python",
   "name": "python",
   "nbconvert_exporter": "python",
   "pygments_lexer": "ipython3",
   "version": "3.11.7"
  }
 },
 "nbformat": 4,
 "nbformat_minor": 5
}
