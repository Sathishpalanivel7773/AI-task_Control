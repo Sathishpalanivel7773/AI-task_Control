{
 "cells": [
  {
   "cell_type": "code",
   "execution_count": 1,
   "id": "17434a29-8118-4949-bdd3-179e233e01e1",
   "metadata": {},
   "outputs": [
    {
     "name": "stdout",
     "output_type": "stream",
     "text": [
      "Sub-Fields in AI are:\n",
      "Machine learning\n",
      "Neural Networks\n",
      "Vision\n",
      "Robotics\n",
      "Speech processing\n",
      "Natural language processing\n"
     ]
    }
   ],
   "source": [
    "#Create Function List out the item list\n",
    "def Subfields():\n",
    "    print('\\n'.join(['Sub-Fields in AI are:', 'Machine learning','Neural Networks','Vision','Robotics','Speech processing','Natural language processing'] ))\n",
    "\n",
    "#using the function    \n",
    "Subfields()"
   ]
  },
  {
   "cell_type": "code",
   "execution_count": 3,
   "id": "bd4aad66-bfac-47a9-b77f-208d8381d8c1",
   "metadata": {},
   "outputs": [
    {
     "name": "stdin",
     "output_type": "stream",
     "text": [
      "Enter a number 52452\n"
     ]
    },
    {
     "name": "stdout",
     "output_type": "stream",
     "text": [
      "52452  is Even Number\n"
     ]
    }
   ],
   "source": [
    "#Function to check whether given number is odd or even\n",
    "def OddorEven():\n",
    "    num1=int(input(\"Enter a number\"))\n",
    "    print(f\"{num1}  {'odd number' if num1 / 2 == 0 else 'is Even Number'}\")\n",
    "\n",
    "# Odd or even\n",
    "OddorEven()"
   ]
  },
  {
   "cell_type": "code",
   "execution_count": 5,
   "id": "30c7f0f9-9925-46bb-aea0-f7f931f27f57",
   "metadata": {},
   "outputs": [
    {
     "name": "stdin",
     "output_type": "stream",
     "text": [
      "Enter input age:  20\n",
      "Enter gender:  Male\n"
     ]
    },
    {
     "name": "stdout",
     "output_type": "stream",
     "text": [
      "Your Gender:Male\n",
      "Your Age :20\n",
      "NOT ELIGIBLE\n"
     ]
    }
   ],
   "source": [
    "#Eligible for marraige Male or Female\n",
    "def Eligible(age:int,gender:str):\n",
    "   print(f\"Your Gender:{ gender }\")\n",
    "   print(f\"Your Age :{ age }\") \n",
    "   print('ELIGIBLE'     if ( gender == 'Male' and age >= 21 ) else \n",
    "         'NOT ELIGIBLE' if ( gender == 'Male' and age <= 21 ) else \n",
    "         'ELIGIBLE'     if ( gender == 'female' and age >= 18 ) else \n",
    "         'NOT ELIGIBLE' if ( gender == 'female' and age <= 18 ) else ' ')\n",
    "   \n",
    "#Eligible Function call\n",
    "age = int(input('Enter input age: '))\n",
    "gender = str(input('Enter gender: '))\n",
    "Eligible(age,gender)\n",
    "       "
   ]
  },
  {
   "cell_type": "code",
   "execution_count": 6,
   "id": "79c20707-2eb8-4c38-affd-785e444d0dd0",
   "metadata": {},
   "outputs": [
    {
     "name": "stdin",
     "output_type": "stream",
     "text": [
      "Enter mark:Sub1,sub2,sub3,sub4,sub5: 98 87 95 95 93\n"
     ]
    },
    {
     "name": "stdout",
     "output_type": "stream",
     "text": [
      "Subject1 = 98\n",
      " Subject2 = 87 \n",
      " Subject3 = 95 \n",
      " Subject4 = 95\n",
      " Subject5 = 93 \n",
      " Total : 468 \n",
      " Percentage : 93.6\n"
     ]
    }
   ],
   "source": [
    "#Calculate percentage of 10 th mark\n",
    "def percentage(value:list[int])->float:\n",
    "    total = 0\n",
    "    for sub in value:\n",
    "       total = total + sub\n",
    "    per = total/len(value)\n",
    "    return total,per\n",
    "#input\n",
    "sub1,sub2,sub3,sub4,sub5 = map(int,input( \"Enter mark:Sub1,sub2,sub3,sub4,sub5:\").split())\n",
    "percent = percentage(list([sub1,sub2,sub3,sub4,sub5]))\n",
    "total,pre = percent\n",
    "print(f\"Subject1 = { sub1 }\\n Subject2 = { sub2 } \\n Subject3 = { sub3 } \\n Subject4 = { sub4 }\\n Subject5 = { sub5 } \\n Total : { total } \\n Percentage : {pre}\")\n",
    "                              "
   ]
  },
  {
   "cell_type": "code",
   "execution_count": 7,
   "id": "f09ce2bb-95ea-4e3a-85f7-be43f423bc8e",
   "metadata": {},
   "outputs": [
    {
     "name": "stdin",
     "output_type": "stream",
     "text": [
      "Enter mark:height1,height2,breadth: 32 2 34\n"
     ]
    },
    {
     "name": "stdout",
     "output_type": "stream",
     "text": [
      "Height1:32 \n",
      " breadth : 34 \n",
      " Area of formula:(Height*breadth/2) \n",
      " Area of Triangle: 544.0\n",
      " Height1:32 \n",
      " Height2:2\n",
      " breadth: 34 \n",
      " perimeter formula:(Height1+Height2+Breadth)\n",
      " Perimeter of triangle 68,\n"
     ]
    }
   ],
   "source": [
    "#print area and perimeter of triangle using function\n",
    "def triangle(height1: float,height2: float,breadth: float, operation:str )->float:\n",
    "    result = { \"area\" : lambda height1,height2,breadth: ( height1 * breadth ) / 2,\n",
    "              \"perimeter\" : lambda height1,height2,breadth: height1+height2+breadth, \n",
    "             }\n",
    "    if operation in result:\n",
    "       return result[operation](height1,height2,breadth)\n",
    "#input\n",
    "height1,height2,breadth, = map(int,input( \"Enter mark:height1,height2,breadth:\").split())\n",
    "triangle_area = triangle(height1,height2,breadth,\"area\")\n",
    "triangle_peri = triangle(height1,height2,breadth,\"perimeter\")\n",
    "print(f\"Height1:{ height1 } \\n breadth : { breadth } \\n Area of formula:(Height*breadth/2) \\n Area of Triangle: { triangle_area }\\n Height1:{ height1 } \\n Height2:{ height2 }\\n breadth: { breadth } \\n perimeter formula:(Height1+Height2+Breadth)\\n Perimeter of triangle { triangle_peri },\")"
   ]
  },
  {
   "cell_type": "code",
   "execution_count": null,
   "id": "0cd2b715-f21e-4a1e-a8fa-722c7678fc22",
   "metadata": {},
   "outputs": [],
   "source": []
  }
 ],
 "metadata": {
  "kernelspec": {
   "display_name": "Python 3 (ipykernel)",
   "language": "python",
   "name": "python3"
  },
  "language_info": {
   "codemirror_mode": {
    "name": "ipython",
    "version": 3
   },
   "file_extension": ".py",
   "mimetype": "text/x-python",
   "name": "python",
   "nbconvert_exporter": "python",
   "pygments_lexer": "ipython3",
   "version": "3.11.7"
  }
 },
 "nbformat": 4,
 "nbformat_minor": 5
}
