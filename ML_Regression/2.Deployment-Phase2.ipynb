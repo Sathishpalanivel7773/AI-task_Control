{
 "cells": [
  {
   "cell_type": "code",
   "execution_count": 4,
   "id": "35f559af-8470-45c2-abf2-7e3507addd4c",
   "metadata": {},
   "outputs": [],
   "source": [
    "# pickle is a library and used for load the model from file\n",
    "import pickle"
   ]
  },
  {
   "cell_type": "code",
   "execution_count": 5,
   "id": "699b3a64-50ed-46d4-ae62-e0f0a65169a0",
   "metadata": {},
   "outputs": [
    {
     "name": "stderr",
     "output_type": "stream",
     "text": [
      "C:\\Users\\Bruger\\anaconda3\\Lib\\site-packages\\sklearn\\base.py:439: UserWarning: X does not have valid feature names, but LinearRegression was fitted with feature names\n",
      "  warnings.warn(\n"
     ]
    }
   ],
   "source": [
    "#Test the model before deployment\n",
    "#Load or read the file and store in loaded_model\n",
    "loaded_model = pickle.load(open(\"finalized_model_linear.sav\",'rb'))\n",
    "\n",
    "#call predict function from loaded_model object passing required input( years of experiance) and stored in result variable\n",
    "result=loaded_model.predict([[13]])"
   ]
  },
  {
   "cell_type": "code",
   "execution_count": 6,
   "id": "d33637ec-0b27-4384-9b80-e407b3a2b6de",
   "metadata": {},
   "outputs": [
    {
     "data": {
      "text/plain": [
       "array([[148313.44400462]])"
      ]
     },
     "execution_count": 6,
     "metadata": {},
     "output_type": "execute_result"
    }
   ],
   "source": [
    "# Display the result variable value\n",
    "result"
   ]
  },
  {
   "cell_type": "code",
   "execution_count": null,
   "id": "375590cd-13e3-45ca-b452-00cf31f1af3b",
   "metadata": {},
   "outputs": [],
   "source": []
  }
 ],
 "metadata": {
  "kernelspec": {
   "display_name": "Python 3 (ipykernel)",
   "language": "python",
   "name": "python3"
  },
  "language_info": {
   "codemirror_mode": {
    "name": "ipython",
    "version": 3
   },
   "file_extension": ".py",
   "mimetype": "text/x-python",
   "name": "python",
   "nbconvert_exporter": "python",
   "pygments_lexer": "ipython3",
   "version": "3.11.7"
  }
 },
 "nbformat": 4,
 "nbformat_minor": 5
}
