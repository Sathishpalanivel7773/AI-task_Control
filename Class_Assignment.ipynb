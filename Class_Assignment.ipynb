{
 "cells": [
  {
   "cell_type": "code",
   "execution_count": 8,
   "id": "66663cb2-4962-44a4-ba04-ec8c07682a8a",
   "metadata": {},
   "outputs": [],
   "source": [
    "from Multioperation import multiopeartion"
   ]
  },
  {
   "cell_type": "code",
   "execution_count": 9,
   "id": "87385600-5a1b-43ea-a6a0-45a05681f365",
   "metadata": {},
   "outputs": [
    {
     "name": "stdout",
     "output_type": "stream",
     "text": [
      "Sub-Fields in AI are:\n",
      "Machine learning\n",
      "Neural Networks\n",
      "Vision\n",
      "Robotics\n",
      "Speech processing\n",
      "Natural language processing\n"
     ]
    }
   ],
   "source": [
    "#Print subfields\n",
    "multiopeartion.Subfields()"
   ]
  },
  {
   "cell_type": "code",
   "execution_count": 10,
   "id": "bd2d4ec6-d15a-4679-aff1-b2b010e18ddc",
   "metadata": {},
   "outputs": [
    {
     "name": "stdin",
     "output_type": "stream",
     "text": [
      "Enter a number 10\n"
     ]
    },
    {
     "name": "stdout",
     "output_type": "stream",
     "text": [
      "10  is Even Number\n"
     ]
    }
   ],
   "source": [
    "#print odd or even\n",
    "multiopeartion.OddorEven()"
   ]
  },
  {
   "cell_type": "code",
   "execution_count": 14,
   "id": "691b156e-a3a2-4d05-80c6-db67db3e39ac",
   "metadata": {},
   "outputs": [
    {
     "name": "stdin",
     "output_type": "stream",
     "text": [
      "Enter input age:  10\n",
      "Enter gender:  female\n"
     ]
    },
    {
     "name": "stdout",
     "output_type": "stream",
     "text": [
      "Your Gender:female \n",
      " Your Age :10\n",
      "NOT ELIGIBLE\n"
     ]
    }
   ],
   "source": [
    "#Eligible for marraige Male or Female\n",
    "age = int(input('Enter input age: '))\n",
    "gender = str(input('Enter gender: '))\n",
    "multiopeartion.Eligible(age,gender)"
   ]
  },
  {
   "cell_type": "code",
   "execution_count": 15,
   "id": "ffb774f9-ae8f-47dc-910b-6dad6db054bf",
   "metadata": {},
   "outputs": [
    {
     "name": "stdin",
     "output_type": "stream",
     "text": [
      "Enter mark:Sub1,sub2,sub3,sub4,sub5: 20 30 55 67 99\n"
     ]
    },
    {
     "name": "stdout",
     "output_type": "stream",
     "text": [
      "Subject1 = 20\n",
      " Subject2 = 30 \n",
      " Subject3 = 55 \n",
      " Subject4 = 67\n",
      " Subject5 = 99 \n",
      " Total : 271 \n",
      " Percentage : 54.2\n"
     ]
    }
   ],
   "source": [
    "#Calculate percentage of 10 th mark\n",
    "sub1,sub2,sub3,sub4,sub5 = map(int,input( \"Enter mark:Sub1,sub2,sub3,sub4,sub5:\").split())\n",
    "total,pre = multiopeartion.percentage(sub1,sub2,sub3,sub4,sub5)\n",
    "print(f\"Subject1 = { sub1 }\\n Subject2 = { sub2 } \\n Subject3 = { sub3 } \\n Subject4 = { sub4 }\\n Subject5 = { sub5 } \\n Total : { total } \\n Percentage : {pre}\")\n",
    "                             "
   ]
  },
  {
   "cell_type": "code",
   "execution_count": 16,
   "id": "b581acf9-6d4b-470e-81ff-fdfda2c68e37",
   "metadata": {},
   "outputs": [
    {
     "name": "stdin",
     "output_type": "stream",
     "text": [
      "Enter mark:height1,height2,breadth: 20 67 99\n"
     ]
    },
    {
     "name": "stdout",
     "output_type": "stream",
     "text": [
      "Height1:20 \n",
      " breadth : 99 \n",
      " Area of formula:(Height*breadth/2) \n",
      " Area of Triangle: 990.0\n",
      " Height1:20 \n",
      " Height2:67\n",
      " breadth: 99 \n",
      " perimeter formula:(Height1+Height2+Breadth)\n",
      " Perimeter of triangle 120.0,\n"
     ]
    }
   ],
   "source": [
    "height1,height2,breadth = map(int,input( \"Enter mark:height1,height2,breadth:\").split())\n",
    "triangle_area,triangle_peri = multiopeartion.Traingle(height1,height2,breadth)\n",
    "print(f\"Height1:{ height1 } \\n breadth : { breadth } \\n Area of formula:(Height*breadth/2) \\n Area of Triangle: { triangle_area }\\n Height1:{ height1 } \\n Height2:{ height2 }\\n breadth: { breadth } \\n perimeter formula:(Height1+Height2+Breadth)\\n Perimeter of triangle { triangle_peri },\")\n"
   ]
  },
  {
   "cell_type": "code",
   "execution_count": null,
   "id": "56774005-d9dc-47fc-8a9d-c34525af23cf",
   "metadata": {},
   "outputs": [],
   "source": []
  }
 ],
 "metadata": {
  "kernelspec": {
   "display_name": "Python 3 (ipykernel)",
   "language": "python",
   "name": "python3"
  },
  "language_info": {
   "codemirror_mode": {
    "name": "ipython",
    "version": 3
   },
   "file_extension": ".py",
   "mimetype": "text/x-python",
   "name": "python",
   "nbconvert_exporter": "python",
   "pygments_lexer": "ipython3",
   "version": "3.11.7"
  }
 },
 "nbformat": 4,
 "nbformat_minor": 5
}
