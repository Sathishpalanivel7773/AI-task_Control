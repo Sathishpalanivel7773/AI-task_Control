{
 "cells": [
  {
   "cell_type": "code",
   "execution_count": 3,
   "id": "66663cb2-4962-44a4-ba04-ec8c07682a8a",
   "metadata": {},
   "outputs": [],
   "source": [
    "from Multioperation_multi_class import subfields,oddoreven,eligible,percentage,triangle"
   ]
  },
  {
   "cell_type": "code",
   "execution_count": 4,
   "id": "87385600-5a1b-43ea-a6a0-45a05681f365",
   "metadata": {},
   "outputs": [
    {
     "name": "stdout",
     "output_type": "stream",
     "text": [
      "Sub-Fields in AI are:\n",
      "Machine learning\n",
      "Neural Networks\n",
      "Vision\n",
      "Robotics\n",
      "Speech processing\n",
      "Natural language processing\n"
     ]
    }
   ],
   "source": [
    "#Print subfields\n",
    "subfields.Subfields()"
   ]
  },
  {
   "cell_type": "code",
   "execution_count": 5,
   "id": "bd2d4ec6-d15a-4679-aff1-b2b010e18ddc",
   "metadata": {},
   "outputs": [
    {
     "name": "stdin",
     "output_type": "stream",
     "text": [
      "Enter a number 52452\n"
     ]
    },
    {
     "name": "stdout",
     "output_type": "stream",
     "text": [
      "52452  is Even Number\n"
     ]
    }
   ],
   "source": [
    "#print odd or even\n",
    "oddoreven.OddorEven()"
   ]
  },
  {
   "cell_type": "code",
   "execution_count": 6,
   "id": "691b156e-a3a2-4d05-80c6-db67db3e39ac",
   "metadata": {},
   "outputs": [
    {
     "name": "stdin",
     "output_type": "stream",
     "text": [
      "Enter input age:  20\n",
      "Enter gender:  Male\n"
     ]
    },
    {
     "name": "stdout",
     "output_type": "stream",
     "text": [
      "Your Gender:Male \n",
      " Your Age :20\n",
      "NOT ELIGIBLE\n"
     ]
    }
   ],
   "source": [
    "#Eligible for marraige Male or Female\n",
    "eligible.Eligible()"
   ]
  },
  {
   "cell_type": "code",
   "execution_count": 7,
   "id": "ffb774f9-ae8f-47dc-910b-6dad6db054bf",
   "metadata": {},
   "outputs": [
    {
     "name": "stdin",
     "output_type": "stream",
     "text": [
      "Enter mark:Sub1,sub2,sub3,sub4,sub5: 98 87 95 95 93\n"
     ]
    },
    {
     "name": "stdout",
     "output_type": "stream",
     "text": [
      "Subject1 = 98\n",
      " Subject2 = 87 \n",
      " Subject3 = 95 \n",
      " Subject4 = 95\n",
      " Subject5 = 93 \n",
      " Total : 468 \n",
      " Percentage : 93.6\n"
     ]
    }
   ],
   "source": [
    "#Calculate percentage of 10 th mark\n",
    "percentage.percentage()                           "
   ]
  },
  {
   "cell_type": "code",
   "execution_count": 8,
   "id": "b581acf9-6d4b-470e-81ff-fdfda2c68e37",
   "metadata": {},
   "outputs": [
    {
     "name": "stdin",
     "output_type": "stream",
     "text": [
      "Enter mark:height1,height2,breadth: 32 34 4\n"
     ]
    },
    {
     "name": "stdout",
     "output_type": "stream",
     "text": [
      "Height:32 \n",
      " breadth : 4 \n",
      " Area of formula:(Height*breadth/2) \n",
      " Area of Triangle: 64.0\n",
      " Height1:32 \n",
      " Height2:34\n",
      " breadth: 4 \n",
      " perimeter formula:Height1+Height2+Breadth\n",
      " Perimeter of triangle 23.333333333333332,\n"
     ]
    }
   ],
   "source": [
    "triangle.Traingle()"
   ]
  },
  {
   "cell_type": "code",
   "execution_count": null,
   "id": "56774005-d9dc-47fc-8a9d-c34525af23cf",
   "metadata": {},
   "outputs": [],
   "source": []
  }
 ],
 "metadata": {
  "kernelspec": {
   "display_name": "Python 3 (ipykernel)",
   "language": "python",
   "name": "python3"
  },
  "language_info": {
   "codemirror_mode": {
    "name": "ipython",
    "version": 3
   },
   "file_extension": ".py",
   "mimetype": "text/x-python",
   "name": "python",
   "nbconvert_exporter": "python",
   "pygments_lexer": "ipython3",
   "version": "3.11.7"
  }
 },
 "nbformat": 4,
 "nbformat_minor": 5
}
