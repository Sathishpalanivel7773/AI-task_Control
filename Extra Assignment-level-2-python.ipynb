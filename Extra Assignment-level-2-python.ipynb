{
 "cells": [
  {
   "cell_type": "code",
   "execution_count": 2,
   "id": "bf1c5f99-139b-429f-bda7-a0065a914cd7",
   "metadata": {},
   "outputs": [
    {
     "name": "stdout",
     "output_type": "stream",
     "text": [
      "0\n",
      "1\n",
      "2\n",
      "3\n",
      "4\n",
      "5\n",
      "6\n",
      "7\n",
      "8\n",
      "9\n",
      "10\n",
      "11\n",
      "12\n",
      "13\n",
      "14\n",
      "15\n",
      "16\n",
      "17\n",
      "18\n",
      "19\n"
     ]
    }
   ],
   "source": [
    "#print 0 to 20 using range\n",
    "print('\\n'.join(map(str,range(20))))"
   ]
  },
  {
   "cell_type": "code",
   "execution_count": 4,
   "id": "7726584f-f9e0-445f-b567-775a5597fd04",
   "metadata": {},
   "outputs": [
    {
     "name": "stdout",
     "output_type": "stream",
     "text": [
      "10 11 12 13 14 15 16 17 18 19\n"
     ]
    }
   ],
   "source": [
    "# print range 10 to 20\n",
    "print(*range(10,20))"
   ]
  },
  {
   "cell_type": "code",
   "execution_count": 5,
   "id": "54cb7e40-dbbf-423d-8964-24cbf3183f17",
   "metadata": {},
   "outputs": [
    {
     "name": "stdout",
     "output_type": "stream",
     "text": [
      "Number of items in the list2: 7\n"
     ]
    }
   ],
   "source": [
    "#print number of items in the list by using 'len'\n",
    "print(f\"Number of items in the list2: { len([10,20,14,55,43,87,76]) }\")"
   ]
  },
  {
   "cell_type": "code",
   "execution_count": 6,
   "id": "25b7b765-a779-44c2-81bb-85d162688166",
   "metadata": {},
   "outputs": [
    {
     "name": "stdout",
     "output_type": "stream",
     "text": [
      "A\n",
      "r\n",
      "t\n",
      "i\n",
      "f\n",
      "i\n",
      "c\n",
      "a\n",
      "l\n",
      " \n",
      "i\n",
      "n\n",
      "t\n",
      "e\n",
      "l\n",
      "l\n",
      "i\n",
      "g\n",
      "e\n",
      "n\n",
      "c\n",
      "e\n"
     ]
    }
   ],
   "source": [
    "print('\\n'.join(map(str,\"Artifical intelligence\")))"
   ]
  },
  {
   "cell_type": "code",
   "execution_count": 7,
   "id": "1f95d4b6-b50d-402b-bf25-b28f9eabe947",
   "metadata": {},
   "outputs": [
    {
     "name": "stdin",
     "output_type": "stream",
     "text": [
      "Enter your name : Sathish palanivel\n",
      "Enter your age : 34\n",
      "Enter your profession: Software developer\n"
     ]
    }
   ],
   "source": [
    "name = input(\"Enter your name :\")\n",
    "age  = input(\"Enter your age :\")\n",
    "prof = input(\"Enter your profession:\")"
   ]
  },
  {
   "cell_type": "code",
   "execution_count": 11,
   "id": "ca9553f0-864e-4234-963e-e506c470bc22",
   "metadata": {},
   "outputs": [
    {
     "name": "stdout",
     "output_type": "stream",
     "text": [
      "(1, 'welcome', 2, 'HOPE')\n"
     ]
    }
   ],
   "source": [
    "#tuples\n",
    "tuple1 = ( 1,'welcome', 2,'HOPE')\n",
    "print(tuple1)"
   ]
  },
  {
   "cell_type": "code",
   "execution_count": 12,
   "id": "c7cfe9bb-7b9f-4ea8-9ed9-add42f93af1e",
   "metadata": {},
   "outputs": [
    {
     "name": "stdout",
     "output_type": "stream",
     "text": [
      "((0, 1, 2, 3), ('python', 'HOPE'))\n"
     ]
    }
   ],
   "source": [
    "# mixed tuples\n",
    "tuple1 = (0 ,1 ,2 ,3)\n",
    "tuple2 = ('python','HOPE')\n",
    "tuple3 = ( tuple1 , tuple2)\n",
    "print(tuple3)"
   ]
  },
  {
   "cell_type": "code",
   "execution_count": 1,
   "id": "f6a824a1-7fbf-4c62-90e2-29dcaeea9e0a",
   "metadata": {},
   "outputs": [
    {
     "name": "stdout",
     "output_type": "stream",
     "text": [
      "20 is odd\n",
      "10 is odd\n",
      "16 is odd\n",
      "276 is odd\n",
      "188 is odd\n"
     ]
    }
   ],
   "source": [
    "# Print odd number in list\n",
    "for i in filter(lambda x: x % 2 == 0,(20,10,16,19,25,1,276,188)):\n",
    "   print(f\"{ i } is odd\")"
   ]
  },
  {
   "cell_type": "code",
   "execution_count": 2,
   "id": "f9c62b39-4185-412d-bfaf-98e319072824",
   "metadata": {},
   "outputs": [
    {
     "name": "stdout",
     "output_type": "stream",
     "text": [
      "19 is even\n",
      "25 is even\n",
      "1 is even\n"
     ]
    }
   ],
   "source": [
    "# Print even number in list\n",
    "for i in filter(lambda x: x % 2 == 1,(20,10,16,19,25,1,276,188)):\n",
    "   print(f\"{ i } is even\")"
   ]
  },
  {
   "cell_type": "code",
   "execution_count": null,
   "id": "146b1747-a3ae-4b49-82bd-75dd9e0f026b",
   "metadata": {},
   "outputs": [],
   "source": [
    "\n"
   ]
  }
 ],
 "metadata": {
  "kernelspec": {
   "display_name": "Python 3 (ipykernel)",
   "language": "python",
   "name": "python3"
  },
  "language_info": {
   "codemirror_mode": {
    "name": "ipython",
    "version": 3
   },
   "file_extension": ".py",
   "mimetype": "text/x-python",
   "name": "python",
   "nbconvert_exporter": "python",
   "pygments_lexer": "ipython3",
   "version": "3.11.7"
  }
 },
 "nbformat": 4,
 "nbformat_minor": 5
}
