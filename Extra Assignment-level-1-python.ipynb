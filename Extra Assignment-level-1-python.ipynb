{
 "cells": [
  {
   "cell_type": "code",
   "execution_count": 2,
   "id": "adeadcfe-b0ff-46be-85f3-01befaf38feb",
   "metadata": {},
   "outputs": [
    {
     "name": "stdout",
     "output_type": "stream",
     "text": [
      "HOPE AI\n"
     ]
    }
   ],
   "source": [
    "# print statment\n",
    "print(\"HOPE AI\")"
   ]
  },
  {
   "cell_type": "code",
   "execution_count": 3,
   "id": "b67bbbd4-2040-4a5d-a82b-c640d3f8992a",
   "metadata": {},
   "outputs": [
    {
     "name": "stdin",
     "output_type": "stream",
     "text": [
      "Enter your institue name? : HOPE AI\n"
     ]
    }
   ],
   "source": [
    "# Buy institue name as input\n",
    "Int_Name = input(\"Enter your institue name? :\")"
   ]
  },
  {
   "cell_type": "code",
   "execution_count": 4,
   "id": "f7649b14-0bc4-4a98-a0b6-7ccd467f9836",
   "metadata": {},
   "outputs": [
    {
     "name": "stdin",
     "output_type": "stream",
     "text": [
      "Enter your name: Raj\n",
      "Enter your age: 15\n",
      "Enter your school name: Guru school\n",
      "Enter your degree: B.E CSE\n"
     ]
    }
   ],
   "source": [
    "# Buy bio-data as input\n",
    "Name     = input(\"Enter your name:\")\n",
    "Age      = input(\"Enter your age:\")\n",
    "Scl_Name = input(\"Enter your school name:\")\n",
    "Degree   = input(\"Enter your degree:\")"
   ]
  },
  {
   "cell_type": "code",
   "execution_count": 5,
   "id": "9161ba34-e301-465c-873d-e6444fb726dd",
   "metadata": {},
   "outputs": [
    {
     "name": "stdin",
     "output_type": "stream",
     "text": [
      "Enter two input number: 43 34\n"
     ]
    },
    {
     "name": "stdout",
     "output_type": "stream",
     "text": [
      "Addition of two numbers total:77 \n"
     ]
    }
   ],
   "source": [
    "#Addition\n",
    "a,b = map(int,input(\"Enter two input number:\" ).split())\n",
    "print(f\"Addition of two numbers total:{ a + b} \")"
   ]
  },
  {
   "cell_type": "code",
   "execution_count": 6,
   "id": "700b6bcb-c325-430b-be9f-e93b7c1d1000",
   "metadata": {},
   "outputs": [
    {
     "name": "stdin",
     "output_type": "stream",
     "text": [
      "Enter two input number: 43 34\n"
     ]
    },
    {
     "name": "stdout",
     "output_type": "stream",
     "text": [
      "Subtraction of two numbers total:9 \n"
     ]
    }
   ],
   "source": [
    "#Subtraction\n",
    "a,b = map(int,input(\"Enter two input number:\" ).split())\n",
    "print(f\"Subtraction of two numbers total:{ a - b} \")"
   ]
  },
  {
   "cell_type": "code",
   "execution_count": 7,
   "id": "a3b20655-51b9-48f0-872e-3e447676f1b3",
   "metadata": {},
   "outputs": [
    {
     "name": "stdin",
     "output_type": "stream",
     "text": [
      "Enter two input number: 63 97\n"
     ]
    },
    {
     "name": "stdout",
     "output_type": "stream",
     "text": [
      "Multiplication of two numbers total:6111 \n"
     ]
    }
   ],
   "source": [
    "#Multiplication\n",
    "a,b = map(int,input(\"Enter two input number:\" ).split())\n",
    "print(f\"Multiplication of two numbers total:{ a * b} \")"
   ]
  },
  {
   "cell_type": "code",
   "execution_count": 8,
   "id": "673b6b1f-6284-4d42-87ac-b4bf27732461",
   "metadata": {},
   "outputs": [
    {
     "name": "stdin",
     "output_type": "stream",
     "text": [
      "Enter two input number: 76 31\n"
     ]
    },
    {
     "name": "stdout",
     "output_type": "stream",
     "text": [
      "Division of two numbers total:2.4516129032258065 \n"
     ]
    }
   ],
   "source": [
    "#Division\n",
    "a,b = map(int,input(\"Enter two input number:\" ).split())\n",
    "print(f\"Division of two numbers total:{ a / b} \")"
   ]
  },
  {
   "cell_type": "code",
   "execution_count": 9,
   "id": "8564f903-cda5-4ba2-bf2b-f6b02259f523",
   "metadata": {},
   "outputs": [
    {
     "name": "stdin",
     "output_type": "stream",
     "text": [
      "Enter two input number: 76 31\n"
     ]
    },
    {
     "name": "stdout",
     "output_type": "stream",
     "text": [
      "Floor Division of two numbers total:2 \n"
     ]
    }
   ],
   "source": [
    "#floor Division\n",
    "a,b = map(int,input(\"Enter two input number:\" ).split())\n",
    "print(f\"Floor Division of two numbers total:{ a // b} \")"
   ]
  },
  {
   "cell_type": "code",
   "execution_count": 10,
   "id": "335232bb-3d6d-43ac-980c-0a316aa5593a",
   "metadata": {},
   "outputs": [
    {
     "name": "stdin",
     "output_type": "stream",
     "text": [
      "Enter two input number: 76 31\n"
     ]
    },
    {
     "name": "stdout",
     "output_type": "stream",
     "text": [
      "Modulo of two numbers total:14 \n"
     ]
    }
   ],
   "source": [
    "#Modulo\n",
    "a,b = map(int,input(\"Enter two input number:\" ).split())\n",
    "print(f\"Modulo of two numbers total:{ a % b} \")"
   ]
  },
  {
   "cell_type": "code",
   "execution_count": 11,
   "id": "094ba560-b9ca-4fd1-a8e0-336fa26e7026",
   "metadata": {},
   "outputs": [
    {
     "name": "stdin",
     "output_type": "stream",
     "text": [
      "Enter two input number: 4 4\n"
     ]
    },
    {
     "name": "stdout",
     "output_type": "stream",
     "text": [
      "Power of two numbers total:256 \n"
     ]
    }
   ],
   "source": [
    "#Power\n",
    "a,b = map(int,input(\"Enter two input number:\" ).split())\n",
    "print(f\"Power of two numbers total:{ pow(a,b) } \")"
   ]
  },
  {
   "cell_type": "code",
   "execution_count": null,
   "id": "0af0c869-bdd9-4832-8460-bc8122aae0b5",
   "metadata": {},
   "outputs": [],
   "source": [
    "\n"
   ]
  }
 ],
 "metadata": {
  "kernelspec": {
   "display_name": "Python 3 (ipykernel)",
   "language": "python",
   "name": "python3"
  },
  "language_info": {
   "codemirror_mode": {
    "name": "ipython",
    "version": 3
   },
   "file_extension": ".py",
   "mimetype": "text/x-python",
   "name": "python",
   "nbconvert_exporter": "python",
   "pygments_lexer": "ipython3",
   "version": "3.11.7"
  }
 },
 "nbformat": 4,
 "nbformat_minor": 5
}
