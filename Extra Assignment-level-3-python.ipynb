{
 "cells": [
  {
   "cell_type": "code",
   "execution_count": 2,
   "id": "01c0f4b9-12b7-48a2-a033-33c18d331136",
   "metadata": {},
   "outputs": [
    {
     "name": "stdin",
     "output_type": "stream",
     "text": [
      "Enter value: 10\n"
     ]
    },
    {
     "name": "stdout",
     "output_type": "stream",
     "text": [
      "CORRECT\n"
     ]
    }
   ],
   "source": [
    "# print if i==10\n",
    "i = int(input(\"Enter value:\"))\n",
    "print(f\"{'CORRECT' if i==10 else ' '}\")"
   ]
  },
  {
   "cell_type": "code",
   "execution_count": 3,
   "id": "75c61de5-4db5-4d8b-afc1-208f535cfff6",
   "metadata": {},
   "outputs": [
    {
     "name": "stdin",
     "output_type": "stream",
     "text": [
      "Enter the password: HOPE@123\n"
     ]
    },
    {
     "name": "stdout",
     "output_type": "stream",
     "text": [
      "Your password is correct\n"
     ]
    }
   ],
   "source": [
    "# check the password, using if and else\n",
    "i = (input(\"Enter the password:\"))\n",
    "print(f\"{'Your password is correct' if i=='HOPE@123' else ' '}\")"
   ]
  },
  {
   "cell_type": "code",
   "execution_count": 5,
   "id": "0aa79a71-ac56-4683-baf1-76a8b2c1993f",
   "metadata": {},
   "outputs": [
    {
     "name": "stdin",
     "output_type": "stream",
     "text": [
      "Enter the age: 20\n"
     ]
    },
    {
     "name": "stdout",
     "output_type": "stream",
     "text": [
      "Adult\n"
     ]
    }
   ],
   "source": [
    "#Catagory the people by their age like children,adult,citizen\n",
    "age = int(input(\"Enter the age:\"))\n",
    "print(f\"{ 'children' if age < 12 else 'Adult' if age <= 20 else 'citizen' if age <= 54 else 'retired'}\")"
   ]
  },
  {
   "cell_type": "code",
   "execution_count": 7,
   "id": "c26172d3-c0a5-46d3-b93b-81cc0248294e",
   "metadata": {},
   "outputs": [
    {
     "name": "stdin",
     "output_type": "stream",
     "text": [
      "Enter the number: 1\n"
     ]
    },
    {
     "name": "stdout",
     "output_type": "stream",
     "text": [
      "Postive Number\n"
     ]
    }
   ],
   "source": [
    "#Find whether number is postive or negative\n",
    "Number = int(input(\"Enter the number:\"))\n",
    "print(f\"{ 'Postive Number' if Number > 0 else 'Negative number' }\")"
   ]
  },
  {
   "cell_type": "code",
   "execution_count": 12,
   "id": "721d3ef0-60f2-4192-b7f1-79d2c13a56a4",
   "metadata": {},
   "outputs": [
    {
     "name": "stdin",
     "output_type": "stream",
     "text": [
      "Enter the number to check 2: 22\n"
     ]
    },
    {
     "name": "stdout",
     "output_type": "stream",
     "text": [
      "No is not divisible by 5\n"
     ]
    }
   ],
   "source": [
    "#Check whether given number is divided by 5\n",
    "Number = int(input(\"Enter the number to check 2:\"))\n",
    "print(f\"{ 'Number can divided by 5' if Number % 5 == 0 else 'No is not divisible by 5' }\")"
   ]
  },
  {
   "cell_type": "code",
   "execution_count": null,
   "id": "77146fd3-e513-4314-8a60-8d01b75203b3",
   "metadata": {},
   "outputs": [],
   "source": []
  }
 ],
 "metadata": {
  "kernelspec": {
   "display_name": "Python 3 (ipykernel)",
   "language": "python",
   "name": "python3"
  },
  "language_info": {
   "codemirror_mode": {
    "name": "ipython",
    "version": 3
   },
   "file_extension": ".py",
   "mimetype": "text/x-python",
   "name": "python",
   "nbconvert_exporter": "python",
   "pygments_lexer": "ipython3",
   "version": "3.11.7"
  }
 },
 "nbformat": 4,
 "nbformat_minor": 5
}
